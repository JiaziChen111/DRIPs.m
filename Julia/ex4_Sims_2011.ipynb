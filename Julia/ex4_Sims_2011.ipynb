{
 "cells": [
  {
   "cell_type": "markdown",
   "metadata": {},
   "source": [
    "# Pricing with Rational Inattnetion: Sims (2011)\n",
    "\n",
    "This notebook replicates [Sims (2011)](http://sims.princeton.edu/yftp/RIMP/handbookChapterRI2.pdf) from the Handbook of Monetary Economics using the methods and the [solver](https://github.com/choongryulyang/dynamic_multivariate_RI) from [Afrouzi and Yang (2019)](http://www.afrouzi.com/dynamic_inattention.pdf) that was adapted for Julia by [Miguel Acosta](https://www.acostamiguel.com/home). "
   ]
  },
  {
   "cell_type": "markdown",
   "metadata": {},
   "source": [
    "## Contents\n",
    "* [Setup](#setup)\n",
    "* [Initialization](#param)\n",
    "* [Solution](#solution)\n",
    "    * [Benchmark Parameterization](#benchmark)\n",
    "    * [Lower Cost of Attention: $\\omega = 0.1$](#lowomega)\n",
    "    * [Other Discount Factors: $\\beta \\in \\{0,1\\}$](#betas)\n",
    "* [Impulse Response Functions](#figures)\n",
    "    * [Benchmark Parameterization](#fig_benchmark)\n",
    "    * [Lower Cost of Attention: $\\omega = 0.1$](#fig_lowomega)\n",
    "    * [Other Discount Factors: $\\beta \\in \\{0,1\\}$](#fig_betas)\n",
    "* [Extensions](#extensions) \n",
    "    * [Transition Dynamics of Attention](#trip)\n",
    "    * [Impulse Response Functions with Information Treatment](#trip_irfs)"
   ]
  },
  {
   "cell_type": "markdown",
   "metadata": {},
   "source": [
    "## Setup <a class=\"anchor\" id=\"setup\"></a>\n",
    "\n",
    "The problem in [Sims (2011)](http://sims.princeton.edu/yftp/RIMP/handbookChapterRI2.pdf), as it appears on page 21, with slight change of notation, \n",
    "\\begin{align}\n",
    "\t          & \\min_{\\{\\Sigma_{t|t}\\succeq 0\\}} \\mathbb{E}_0\\left[\\sum_{t=0}^\\infty\\\n",
    "\t\\beta^t \\left(tr(\\Sigma_{t|t}\\mathbf{H}\\mathbf{H}')+\\omega\\log\\left(\\frac{|\\Sigma_{t|t-1}|}{|\\Sigma_{t|t}|}\\right)\\right)\\right] \\\\\n",
    "\ts.t.\\quad &\n",
    "\t\\Sigma_{t+1|t}=\\mathbf{A}\\Sigma_{t|t}\\mathbf{A}'+\\mathbf{Q}\\mathbf{Q}'\\\\\n",
    "\t          & \\Sigma_{t|t-1}-\\Sigma_{t|t} \\text{ positive semi-definite}\n",
    "\\end{align}\n",
    "\n",
    "where \n",
    "\\begin{align}\n",
    "\t\\mathbf{H} = \\left[\\begin{array}{c} 1 \\\\ 1\\end{array}\\right],\n",
    "    \\quad\n",
    "    \\mathbf{A} = \\left[\\begin{array}{cc}\n",
    "\t\t\t\t\t\t\t0.95 & 0\\\\\n",
    "\t\t\t\t\t\t\t0 & 0.4\\\\\n",
    "\t\t\t\t\t   \\end{array}\\right],\n",
    "\t\\quad\n",
    "\t\\mathbf{Q} = \\left[\\begin{array}{cc}\n",
    "\t\t\t\t\t\t\t\\sqrt{0.0975} & 0\\\\\n",
    "\t\t\t\t\t\t\t0 \t\t\t& \\sqrt{0.86}\\\\\n",
    "\t\t\t\t\t   \\end{array}\\right] \n",
    "\\end{align}\n",
    "We have renamed the parameters so that the problem directly maps to a D.R.I.P. Otherwise, the problem is the same."
   ]
  },
  {
   "cell_type": "markdown",
   "metadata": {},
   "source": [
    "## Initialization <a class=\"anchor\" id=\"param\"></a>\n",
    "Include the solver:"
   ]
  },
  {
   "cell_type": "code",
   "execution_count": 1,
   "metadata": {
    "ExecuteTime": {
     "end_time": "2020-04-23T00:38:11.028000-04:00",
     "start_time": "2020-04-23T04:38:10.211Z"
    }
   },
   "outputs": [],
   "source": [
    "include(\"DRIP.jl\");"
   ]
  },
  {
   "cell_type": "markdown",
   "metadata": {},
   "source": [
    "Import supporting packages and aux. commands:"
   ]
  },
  {
   "cell_type": "code",
   "execution_count": 2,
   "metadata": {},
   "outputs": [],
   "source": [
    "using Printf, Plots, LaTeXStrings, BenchmarkTools; pyplot();\n",
    "Base.show(io::IO, f::Float64) = @printf io \"%1.3f\" f #rounds up floats for display"
   ]
  },
  {
   "cell_type": "markdown",
   "metadata": {},
   "source": [
    "Set parameters:"
   ]
  },
  {
   "cell_type": "code",
   "execution_count": 3,
   "metadata": {
    "ExecuteTime": {
     "end_time": "2020-04-23T00:38:12.513000-04:00",
     "start_time": "2020-04-23T04:38:12.282Z"
    }
   },
   "outputs": [],
   "source": [
    "## Primitives of D.R.I.P.\n",
    "β = 0.9;\n",
    "ω = 1.0;\n",
    "A = [0.95 0.0; 0.0 0.4];\n",
    "Q = [√0.0975 0.0; 0.0 √0.86];\n",
    "H = [1.0; 1.0];"
   ]
  },
  {
   "cell_type": "markdown",
   "metadata": {},
   "source": [
    "## Solution and Performance<a class=\"anchor\" id=\"solution\"></a>\n",
    "### Benchmark Parameterization <a class=\"anchor\" id=\"benchmark\"></a>\n",
    "Solve and display the optimal posterior covariance matrix:"
   ]
  },
  {
   "cell_type": "code",
   "execution_count": null,
   "metadata": {
    "ExecuteTime": {
     "end_time": "2020-04-23T00:38:25.682000-04:00",
     "start_time": "2020-04-23T04:38:14.237Z"
    }
   },
   "outputs": [],
   "source": [
    "sol_bp = solve_drip(ω,β,A,Q,H);\n",
    "display(sol_bp.Σ_p)"
   ]
  },
  {
   "cell_type": "markdown",
   "metadata": {},
   "source": [
    "Performance for random values of $\\omega\\in [0,2]$:"
   ]
  },
  {
   "cell_type": "code",
   "execution_count": null,
   "metadata": {
    "ExecuteTime": {
     "end_time": "2020-04-23T00:38:37.554000-04:00",
     "start_time": "2020-04-23T04:38:24.717Z"
    }
   },
   "outputs": [],
   "source": [
    "@benchmark solve_drip(ω,β,A,Q,H) setup = (ω = 2*rand())"
   ]
  },
  {
   "cell_type": "markdown",
   "metadata": {},
   "source": [
    "Performance for random values of $\\beta\\in[0,1]$:"
   ]
  },
  {
   "cell_type": "code",
   "execution_count": null,
   "metadata": {},
   "outputs": [],
   "source": [
    "@benchmark solve_drip(ω,β,A,Q,H) setup = (β = rand()) "
   ]
  },
  {
   "cell_type": "markdown",
   "metadata": {},
   "source": [
    "### Lower Cost of Attention: $\\omega = 0.1$ <a class=\"anchor\" id=\"lowomega\"></a>\n",
    "Solve and display the optimal posterior covariance matrix:"
   ]
  },
  {
   "cell_type": "code",
   "execution_count": null,
   "metadata": {
    "ExecuteTime": {
     "end_time": "2020-04-23T00:38:44.361000-04:00",
     "start_time": "2020-04-23T04:38:44.205Z"
    }
   },
   "outputs": [],
   "source": [
    "sol_lω = solve_drip(0.1,β,A,Q,H);\n",
    "display(sol_lω.Σ_p)"
   ]
  },
  {
   "cell_type": "markdown",
   "metadata": {},
   "source": [
    "### Different Discount Factors: $\\beta \\in \\{0,1\\}$ <a class=\"anchor\" id=\"betas\"></a>\n",
    "Solve the model for $\\beta=0$ and $\\beta=1$ to compare with the benchmark value of $\\beta=0.9$:"
   ]
  },
  {
   "cell_type": "code",
   "execution_count": null,
   "metadata": {
    "ExecuteTime": {
     "end_time": "2020-04-23T00:40:23.828000-04:00",
     "start_time": "2020-04-23T04:40:23.824Z"
    }
   },
   "outputs": [],
   "source": [
    "sol_lβ = solve_drip(ω,0,A,Q,H); display(sol_lβ.Σ_p);"
   ]
  },
  {
   "cell_type": "code",
   "execution_count": null,
   "metadata": {
    "ExecuteTime": {
     "end_time": "2020-04-23T00:40:24.580000-04:00",
     "start_time": "2020-04-23T04:40:24.577Z"
    }
   },
   "outputs": [],
   "source": [
    "sol_hβ = solve_drip(ω,1,A,Q,H); display(sol_hβ.Σ_p);"
   ]
  },
  {
   "cell_type": "markdown",
   "metadata": {},
   "source": [
    "## Impulse Response Functions <a class=\"anchor\" id=\"figures\"></a>\n",
    "### Benchmark Parameterization <a class=\"anchor\" id=\"fig_benchmark\"></a>\n",
    "Get the IRFs:"
   ]
  },
  {
   "cell_type": "code",
   "execution_count": null,
   "metadata": {},
   "outputs": [],
   "source": [
    "T = 25; #length of IRFs\n",
    "irfs_bp = dripirfs(sol_bp,T);"
   ]
  },
  {
   "cell_type": "markdown",
   "metadata": {},
   "source": [
    "Plot IRFs:"
   ]
  },
  {
   "cell_type": "code",
   "execution_count": null,
   "metadata": {
    "hide_input": false
   },
   "outputs": [],
   "source": [
    "p1 = plot(1:T, [irfs_bp.x[1,1,:], irfs_bp.a[1,1,:]],\n",
    "    title             = L\"IRFs to Slow-Moving Shock ($\\rho = 0.95$)\",\n",
    "    label             = [\"Shock\" \"Price\"],\n",
    "    color             = [:darkgray :black],\n",
    "    marker            = [:circle :square],\n",
    "    markerstrokecolor = :match,\n",
    "    markercolor       = false,\n",
    "    markersize        = 6)\n",
    "p2 = plot(1:T, [irfs_bp.x[2,2,:], irfs_bp.a[1,2,:]],\n",
    "    title             = L\"IRFs to Fast-Moving Shock ($\\rho = 0.4$)\",\n",
    "    label             = [\"Shock\" \"Price\"],\n",
    "    color             = [:darkgray :black],\n",
    "    marker            = [:circle :square],\n",
    "    markerstrokecolor = :match,\n",
    "    markercolor       = false,\n",
    "    markersize        = 6)\n",
    "p = plot(p1,p2,\n",
    "    layout     = (2,1),\n",
    "    xlabel     = \"Time\",\n",
    "    lw         = 2,\n",
    "    xticks     = (1:2:T),\n",
    "    xlim       = (0,T+1),\n",
    "    fontfamily = \"serif\",\n",
    "    legend     = :topright,\n",
    "    legendfont = font(12),\n",
    "    tickfont   = font(12),\n",
    "    size       = (900,550),\n",
    "    framestyle = :box)"
   ]
  },
  {
   "cell_type": "markdown",
   "metadata": {},
   "source": [
    "### Lower Cost of Attention: $\\omega=0.1$ <a class=\"anchor\" id=\"fig_lowomega\"></a>\n",
    "Get the IRFs:"
   ]
  },
  {
   "cell_type": "code",
   "execution_count": null,
   "metadata": {},
   "outputs": [],
   "source": [
    "T = 25; #length of IRFs\n",
    "irfs_lω = dripirfs(sol_lω,T);"
   ]
  },
  {
   "cell_type": "markdown",
   "metadata": {},
   "source": [
    "Plot IRFs:"
   ]
  },
  {
   "cell_type": "code",
   "execution_count": null,
   "metadata": {
    "hide_input": false
   },
   "outputs": [],
   "source": [
    "p1 = plot(1:T, [irfs_lω.x[1,1,:], irfs_lω.a[1,1,:]],\n",
    "    title             = L\"IRFs to Slow-Moving Shock ($\\rho = 0.95$)\",\n",
    "    label             = [\"Shock\" \"Price\"],\n",
    "    color             = [:darkgray :black],\n",
    "    marker            = [:circle :square],\n",
    "    markerstrokecolor = :match,\n",
    "    markercolor       = false,\n",
    "    markersize        = 6)\n",
    "p2 = plot(1:T, [irfs_lω.x[2,2,:], irfs_lω.a[1,2,:]],\n",
    "    title             = L\"IRFs to Fast-Moving Shock ($\\rho = 0.4$)\",\n",
    "    label             = [\"Shock\" \"Price\"],\n",
    "    color             = [:darkgray :black],\n",
    "    marker            = [:circle :square],\n",
    "    markerstrokecolor = :match,\n",
    "    markercolor       = false,\n",
    "    markersize        = 6)\n",
    "p = plot(p1,p2,\n",
    "    layout     = (2,1),\n",
    "    xlabel     = \"Time\",\n",
    "    lw         = 2,\n",
    "    xticks     = (1:2:T),\n",
    "    xlim       = (0,T+1),\n",
    "    fontfamily = \"serif\",\n",
    "    legend     = :topright,\n",
    "    legendfont = font(12),\n",
    "    tickfont   = font(12),\n",
    "    size       = (900,550),\n",
    "    framestyle = :box)"
   ]
  },
  {
   "cell_type": "markdown",
   "metadata": {},
   "source": [
    "### Other Discount Factors: $\\beta\\in\\{0,1\\}$ <a class=\"anchor\" id=\"fig_betas\"></a>\n",
    "Get the IRFs:"
   ]
  },
  {
   "cell_type": "code",
   "execution_count": null,
   "metadata": {},
   "outputs": [],
   "source": [
    "T = 25; #length of IRFs\n",
    "irfs_lβ = dripirfs(sol_lβ,T);\n",
    "irfs_hβ = dripirfs(sol_hβ,T);"
   ]
  },
  {
   "cell_type": "markdown",
   "metadata": {},
   "source": [
    "Plot IRFs:"
   ]
  },
  {
   "cell_type": "code",
   "execution_count": null,
   "metadata": {
    "hide_input": false
   },
   "outputs": [],
   "source": [
    "p1 = plot(1:T, [irfs_bp.x[1,1,:],irfs_hβ.a[1,1,:], irfs_lβ.a[1,1,:]],\n",
    "    title             = L\"IRFs to Slow-Moving Shock ($\\rho = 0.95$)\",\n",
    "    label             = [\"Shock\" L\"Price ($\\beta=1$)\" L\"Price ($\\beta=0$)\"],\n",
    "    color             = [:darkgray :black :gray50],\n",
    "    marker            = [:circle :square :utriangle],\n",
    "    markerstrokecolor = :match,\n",
    "    markercolor       = false,\n",
    "    markersize        = 6)\n",
    "p2 = plot(1:T, [irfs_bp.x[2,2,:],irfs_hβ.a[1,2,:], irfs_lβ.a[1,2,:]],\n",
    "    title             = L\"IRFs to Fast-Moving Shock ($\\rho = 0.4$)\",\n",
    "    label             = [\"Shock\" L\"Priceblack ($\\beta=1$)\" L\"Price ($\\beta=0$)\"],\n",
    "    color             = [:darkgray :black :gray50],\n",
    "    marker            = [:circle :square :utriangle],\n",
    "    markerstrokecolor = :match,\n",
    "    markercolor       = false,\n",
    "    markersize        = 6)\n",
    "p = plot(p1,p2,\n",
    "    layout     = (2,1),\n",
    "    xlabel     = \"Time\",\n",
    "    lw         = 2,\n",
    "    xticks     = (1:2:T),\n",
    "    xlim       = (0,T+1),\n",
    "    fontfamily = \"serif\",\n",
    "    legend     = :topright,\n",
    "    legendfont = font(12),\n",
    "    tickfont   = font(12),\n",
    "    size       = (900,550),\n",
    "    framestyle = :box)"
   ]
  },
  {
   "cell_type": "markdown",
   "metadata": {},
   "source": [
    "## Extensions <a class=\"anchor\" id=\"extensions\"></a>\n",
    "\n",
    "### Transition Dynamics of Attention <a class=\"anchor\" id=\"trip\"></a>"
   ]
  },
  {
   "cell_type": "markdown",
   "metadata": {
    "slideshow": {
     "slide_type": "slide"
    }
   },
   "source": [
    "In this section, we solve for the transition dynamics of the optimal posterior covariance matrix starting from an initial prior that is different from the steady state prior. \n",
    "\n",
    "For instance let us consider a case where the firm is at the steady state of the rational inattention problem at time 0, with prior covariance matrix $\\bar{\\Sigma}_{-1}$, and it receives a one time treatment with a perfectly informative signal about its optimal price:\n",
    "\n",
    "$$s_0 = \\mathbf{H}'\\vec{x}_0$$\n",
    "\n",
    "Then, the new prior covariance matrix is \n",
    "\n",
    "$$ \\Sigma_0 = \\bar{\\Sigma}_{-1}-\\frac{\\bar{\\Sigma}_{-1}\\mathbf{H}\\mathbf{H}'\\bar{\\Sigma}_{-1}}{\\mathbf{H}'\\bar{\\Sigma}_{-1}\\mathbf{H}} $$\n",
    "Let's see how the initial prior is different from the steady state prior:"
   ]
  },
  {
   "cell_type": "code",
   "execution_count": null,
   "metadata": {},
   "outputs": [],
   "source": [
    "Σ_1     = sol_bp.Σ_1;                      # steady state prior\n",
    "Σ0      = Σ_1 - (Σ_1*H*H'*Σ_1)/(H'*Σ_1*H); # prior after treatment\n",
    "display(Σ_1); display(Σ0);                 # display prior before and after treatment"
   ]
  },
  {
   "cell_type": "markdown",
   "metadata": {},
   "source": [
    "#### Solve for the transition dynamics\n",
    "The function `solve_trip` solves for the transition dynamics automatically given the initial signal. Start by initializing the initial signal:"
   ]
  },
  {
   "cell_type": "code",
   "execution_count": null,
   "metadata": {},
   "outputs": [],
   "source": [
    "s0 = Signal(H,0.0);"
   ]
  },
  {
   "cell_type": "markdown",
   "metadata": {},
   "source": [
    "Solve for the transition dynamics given $s_0$:"
   ]
  },
  {
   "cell_type": "code",
   "execution_count": null,
   "metadata": {},
   "outputs": [],
   "source": [
    "Tss     = 15; # guess for time until convergence\n",
    "bp_trip = solve_trip(sol_bp, s0; T = Tss);"
   ]
  },
  {
   "cell_type": "markdown",
   "metadata": {},
   "source": [
    "Performance for solving the transition dynamics for a random signal:"
   ]
  },
  {
   "cell_type": "code",
   "execution_count": null,
   "metadata": {},
   "outputs": [],
   "source": [
    "@benchmark solve_trip(sol_bp, S; T = 30) setup = (S = Signal(rand(2),0.0))"
   ]
  },
  {
   "cell_type": "markdown",
   "metadata": {},
   "source": [
    "#### Plot Transition Path of Eigenvalues"
   ]
  },
  {
   "cell_type": "markdown",
   "metadata": {},
   "source": [
    "Plot the marginal values of information. In this problem the state is two dimensional. At any time, for every orthogonalized dimension, the agent weighs the **marginal value** of acquiring information in that dimension against the **marginal cost** of attention which is the parameter $\\omega$.**The number of signals that the agent acquires at any time is the number of marginal values that are larger than $\\omega$.**"
   ]
  },
  {
   "cell_type": "code",
   "execution_count": null,
   "metadata": {},
   "outputs": [],
   "source": [
    "p = plot(0:Tss-1,[bp_trip.Ds[1,1:Tss],bp_trip.Ds[2,1:Tss],bp_trip.P.ω*ones(Tss,1)],\n",
    "    label             = [\"Low marginal value dim.\" \"High marginal value dim.\" \"Marginal cost of attention\"],\n",
    "    size              = (900,275),\n",
    "    title             = \"Marginal Value of Information\",\n",
    "    xlabel            = \"Time\",\n",
    "    color             = [:darkgray :black :black],\n",
    "    line              = [:solid :solid :dash],\n",
    "    marker            = [:circle :square :none],\n",
    "    markercolor       = false,\n",
    "    markerstrokecolor = :match,\n",
    "    markersize        = 6,\n",
    "    xlim              = (-1,Tss),\n",
    "    xticks            = 0:2:Tss-1,\n",
    "    legend            = :outertopright,\n",
    "    fontfamily        = \"serif\",\n",
    "    framestyle        = :box)"
   ]
  },
  {
   "cell_type": "markdown",
   "metadata": {},
   "source": [
    "### Impulse Response Functions with Information Treatment <a class=\"anchor\" id=\"trip_irfs\"></a>\n",
    "Get the IRFs in the transition path after treatment:"
   ]
  },
  {
   "cell_type": "code",
   "execution_count": null,
   "metadata": {},
   "outputs": [],
   "source": [
    "T = 25; #length of IRFs\n",
    "\n",
    "tirfs_bp = dripirfs(sol_bp,T,s0); # irfs with treatment\n",
    "irfs_bp  = dripirfs(sol_bp,T);    # irfs in the Ss (without treatment)"
   ]
  },
  {
   "cell_type": "markdown",
   "metadata": {},
   "source": [
    "Plot IRFs:"
   ]
  },
  {
   "cell_type": "code",
   "execution_count": null,
   "metadata": {
    "hide_input": false
   },
   "outputs": [],
   "source": [
    "p1 = plot(1:T, [irfs_bp.x[1,1,:], tirfs_bp.a[1,1,:], irfs_bp.a[1,1,:]],\n",
    "    title             = L\"IRFs to Slow-Moving Shock ($\\rho = 0.95$)\",\n",
    "    label             = [\"Shock\" \"Price (w/ treatment)\" \"Price (w/o treatment)\"],\n",
    "    color             = [:darkgray :black :gray80],\n",
    "    marker            = [:circle :square :utriangle],\n",
    "    markerstrokecolor = :match,\n",
    "    markercolor       = false,\n",
    "    markersize        = 6)\n",
    "p2 = plot(1:T, [tirfs_bp.x[2,2,:], tirfs_bp.a[1,2,:], irfs_bp.a[1,2,:]],\n",
    "    title             = L\"IRFs to Fast-Moving Shock ($\\rho = 0.4$)\",\n",
    "    label             = [\"Shock\" \"Price (w/ treatment)\" \"Price (w/o treatment)\"],\n",
    "    color             = [:darkgray :black :gray80],\n",
    "    marker            = [:circle :square :utriangle],\n",
    "    markerstrokecolor = :match,\n",
    "    markercolor       = false,\n",
    "    markersize        = 6)\n",
    "p = plot(p1,p2,\n",
    "    layout     = (2,1),\n",
    "    xlabel     = \"Time\",\n",
    "    lw         = 2,\n",
    "    xticks     = (1:2:T),\n",
    "    xlim       = (0,T+1),\n",
    "    fontfamily = \"serif\",\n",
    "    legend     = :topright,\n",
    "    legendfont = font(12),\n",
    "    tickfont   = font(12),\n",
    "    size       = (900,550),\n",
    "    framestyle = :box)"
   ]
  }
 ],
 "metadata": {
  "kernelspec": {
   "display_name": "Julia 1.3.1",
   "language": "julia",
   "name": "julia-1.3"
  },
  "language_info": {
   "file_extension": ".jl",
   "mimetype": "application/julia",
   "name": "julia",
   "version": "1.3.1"
  },
  "latex_envs": {
   "LaTeX_envs_menu_present": true,
   "autoclose": false,
   "autocomplete": true,
   "bibliofile": "biblio.bib",
   "cite_by": "apalike",
   "current_citInitial": 1,
   "eqLabelWithNumbers": true,
   "eqNumInitial": 1,
   "hotkeys": {
    "equation": "Ctrl-E",
    "itemize": "Ctrl-I"
   },
   "labels_anchors": false,
   "latex_user_defs": false,
   "report_style_numbering": false,
   "user_envs_cfg": false
  }
 },
 "nbformat": 4,
 "nbformat_minor": 4
}
