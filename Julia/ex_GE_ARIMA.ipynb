{
 "cells": [
  {
   "cell_type": "markdown",
   "metadata": {},
   "source": [
    "## Example 4: Pricing in GE with ARIMA Approximation\n",
    "### Background\n",
    "Suppose now that there is general equilibirum feedback with the degree of strategic complementarity $\\alpha$: $$p_{i,t}^*=(1-\\alpha)q_t+\\alpha p_t$$ where\n",
    "\\begin{align}\n",
    "    \\Delta q_t&=\\rho \\Delta q_{t-1}+u_t,\\quad u_t\\sim \\mathcal{N}(0,\\sigma_u^2) \\\\\n",
    "    p_t&\\equiv \\int_0^1 p_{i,t}di\n",
    "\\end{align}\n",
    "Note that now the state space representation for $p_{i,t}^*$ is no longer exogenous and is determined in the equilibrium. However, we know that this is a Guassian process and can be approximated by an ARIMA($p$,$d$,$q$) process. Here, $d$ indicates whether the process has a unit root (which is true in the case of pricing problems). Moreover, we will choose $p$ and $q$ to minimize approximation error subject the maximizing performance. Larger state spaces are more accurate but increase the dimensionality of the DRIP and slow down the algorithm.\n",
    "\n",
    "In our case $d=1$ and hence $dp_{i,t}^*$ is stationary and approximated by an ARMA($p$,$q$):\n",
    "$$\\Delta p_{i,t}^*=\\sum_{j=1}^p \\rho_i \\Delta p_{i,t-j}^*+\\sum_{k=1}^q \\theta_i u_{t-k}+\\tilde{\\sigma} u_t$$\n",
    "\n",
    "Now, let \n",
    "$$\\vec{x}_t = (p_{i,t}^*,\\Delta p_{i,t}^*,\\dots,\\Delta p_{i,t-p+1}^*,u_t,\\dots,u_{t-q+1})'\\in\\mathbb{R}^{p+q+1}$$\n",
    "\n",
    "### Matrix Notation\n",
    "\n",
    "Given a guess for the vector $\\Gamma\\equiv (\\rho_1,\\dots,\\rho_p,\\theta_1,\\dots,\\theta_q)$ and a guess for $\\tilde{\\sigma}$ we have\n",
    "$$\\vec{x}_t=\\mathbf{A}(\\Gamma)\\vec{x}_{t-1}+\\mathbf{Q}(\\tilde{\\sigma})u_t$$ where\n",
    "\n",
    "\\begin{align}\n",
    "    \\mathbf{A}(\\Gamma)=\\left[\\begin{array}{ccccc}\n",
    "        1 &| &&\\Gamma'&\\\\ \\hline\n",
    "        0 &| &&\\Gamma'&\\\\ \\hline\n",
    "        0 &| \\mathbf{I}_{(p-1)\\times(p-1)}&|  & \\mathbf{0}_{(p-1)\\times(q+1)} & \\\\ \\hline\n",
    "         &  & & \\mathbf{0}_{1\\times(p+q+1)} & \\\\ \\hline\n",
    "        0 & \\mathbf{0}_{(q-1)\\times(p+2)} &| & \\mathbf{I}_{(q-1)\\times(q-1)} & \n",
    "        \\end{array}\\right], \\quad \n",
    "    \\mathbf{Q}(\\hat{\\sigma})=\\left[\\begin{array}{c}\n",
    "         \\tilde{\\sigma} \\\\\n",
    "         \\tilde{\\sigma} \\\\ \\hline\n",
    "         \\mathbf{0}_{(p-1)\\times 1} \\\\ \\hline\n",
    "         1 \\\\ \\hline\n",
    "         \\mathbf{0}_{(q-1)\\times 1} \n",
    "        \\end{array}\\right]\n",
    "\\end{align}\n",
    "and \n",
    "\\begin{align}\n",
    "    p_{i,t}^*=\\mathbf{e}_1'\\vec{x}_t, \\quad \\mathbf{e}_1'=(1,0,\\dots,0) \\in \\mathbb{R}^{1\\times (p+q+1)}\n",
    "\\end{align}\n",
    "\n",
    "Our objective is to find the equilibrium $(\\Gamma,\\tilde{\\sigma})$, and we do this by iteration for an initial guess $(\\Gamma_{(0)},\\tilde{\\sigma}_{(0)})$:\n",
    "\n",
    "* At iteration $n\\geq 0$, using function solve the ratinoal inattention problem given the guess $(\\Gamma_{(n-1)},\\tilde{\\sigma}_{(n-1)})$.\n",
    "\n",
    "* Get the implied impulse response of $\\Delta p_{i,t^*}$ and approximate it with an ARMA(p,q).\n",
    "\n",
    "* Update $(\\Gamma_{(n)},\\tilde{\\sigma}_{(n)})$.\n",
    "* Iterate until convergence."
   ]
  },
  {
   "cell_type": "markdown",
   "metadata": {},
   "source": [
    "### Setup the problem:"
   ]
  },
  {
   "cell_type": "code",
   "execution_count": 106,
   "metadata": {},
   "outputs": [
    {
     "data": {
      "text/plain": [
       "5×5 Array{Float64,2}:\n",
       "  1.0           -1.0        -0.0           -0.0        -0.0        \n",
       " -1.0           11.6697     -3.56279      -10.6697     -8.399e-16  \n",
       "  0.0           -3.56279     2.18968        3.56279     2.80457e-16\n",
       " -5.55112e-16  -10.6697      3.56279       11.6697      8.399e-16  \n",
       " -1.84889e-32   -8.399e-16   2.80457e-16    8.399e-16   1.0        "
      ]
     },
     "execution_count": 106,
     "metadata": {},
     "output_type": "execute_result"
    }
   ],
   "source": [
    "## Model Parameters\n",
    "ρ   = 0.6;        #persistence of money growth\n",
    "σ_u = .1;          #std. deviation of shocks to money growth\n",
    "α   = 0.8;        #degree of strategic complementarity\n",
    "ω   = .4;          #cost of attention\n",
    "β   = 0.99;       #discount factor\n",
    "\n",
    "## Approximation Parameters\n",
    "p   = 2;          #p in ARMA(p,q)\n",
    "q   = 2;          #q in ARMA(p,q)\n",
    "T   = 60;         #length if irfs\n",
    "Hq  = ρ.^(0:T-1); #irf of Δq\n",
    "\n",
    "Γ0,σ̃0 = arma_approx(Hq,p,q)\n",
    "A = [[1;Γ0]';\n",
    "                 [0;Γ0]';\n",
    "                 [zeros(1,p-1);Matrix(I,p-1,p-1);zeros(q+1,p-1)]';\n",
    "                  zeros(1,p+q+1);\n",
    "                 [zeros(p+2,q-1);Matrix(I,q-1,q-1)]'];\n",
    "Q = [σ̃0;σ̃0;zeros(p-1,1);1;zeros(q-1,1)];\n",
    "inv(A*A'+Q*Q')"
   ]
  },
  {
   "cell_type": "code",
   "execution_count": 107,
   "metadata": {},
   "outputs": [
    {
     "data": {
      "text/plain": [
       "ge_drip (generic function with 3 methods)"
      ]
     },
     "execution_count": 107,
     "metadata": {},
     "output_type": "execute_result"
    }
   ],
   "source": [
    "function arma_approx(H,p,q; T=length(H), M = [zeros(1,T-1) 0; Matrix(I,T-1,T-1) zeros(T-1,1)])\n",
    "    B = zeros(p+q+1,T);\n",
    "    for i in 1:p\n",
    "        B[q+1+i,:] = H'*M'^i;\n",
    "    end\n",
    "    B[1:q+1,1:q+1] = Matrix(I,q+1,q+1);\n",
    "    Γ̄ = inv(B*B')*B*H;\n",
    "    σ̃ = Γ̄[1];\n",
    "    Γ = [Γ̄[q+2:q+p+1];Γ̄[2:q+1]];\n",
    "    return(Γ,σ̃)\n",
    "end\n",
    "\n",
    "function ge_drip(ω,β,                     #primitives of drip \n",
    "                 α,                       #strategic complementarity\n",
    "                 p,q,                     #parameters of ARMA(p,q)\n",
    "                 Hq;                      #irf of Δq\n",
    "                 maxit = 200,             #optional: max number of iterations for GE code \n",
    "                 tol   = 1e-12)           #optional: tolerance for iterations\n",
    "\n",
    "    # set primitives\n",
    "    Γ0,σ̃0 = arma_approx(Hq,p,q);\n",
    "    T     = length(Hq);\n",
    "    err   = 1;  \n",
    "    iter  = 0;\n",
    "    M     = [zeros(1,T-1) 0; Matrix(I,T-1,T-1) zeros(T-1,1)];\n",
    "    eye   = Matrix(I,T,T);\n",
    "    H     = zeros(p+q+1,1); H[1]=1;\n",
    "    \n",
    "    # iterate on GE\n",
    "    while (err > tol) & (iter < maxit)\n",
    "            A = [[1;Γ0]';\n",
    "                 [0;Γ0]';\n",
    "                 [zeros(1,p-1);Matrix(I,p-1,p-1);zeros(q+1,p-1)]';\n",
    "                  zeros(1,p+q+1);\n",
    "                 [zeros(p+2,q-1);Matrix(I,q-1,q-1)]'];\n",
    "            Q = [σ̃0;σ̃0;zeros(p-1,1);1;zeros(q-1,1)];\n",
    "            if iter == 0 \n",
    "                global ge  = Solve_RI_Dynamics(ω,β,A,Q,H); \n",
    "            else \n",
    "                global ge  = Solve_RI_Dynamics(ω,β,A,Q,H;Ω0 = ge.Ω ,Σ0 = ge.Σ_1);\n",
    "            end\n",
    "            K = real.(ge.K)\n",
    "            Y = real.(ge.Y)\n",
    "\n",
    "             if maximum(abs.(imag.(ge.K))) > 1e-6 || maximum(abs.(imag.(ge.Y))) > 1e-6\n",
    "                 println(\"Complex components are large\")\n",
    "             end\n",
    "\n",
    "            irfs  = dripirfs(ge,T);\n",
    "            Hdp   = (1-α)*Hq+α*(I-M)*irfs.a[1,1,:];\n",
    "            Γ1,σ̃1 = arma_approx(Hdp,p,q);\n",
    "            err   = norm([Γ1;σ̃1]-[Γ0;σ̃0],2);\n",
    "        \n",
    "            Γ0,σ̃0 = Γ1,σ̃1;\n",
    "        \n",
    "            if iter == maxit\n",
    "                print(\"GE loop hit maxit -- no convergence\\n\")\n",
    "            end\n",
    "            iter += 1;\n",
    "            println(\"Iteration $iter. Difference: $err\")\n",
    "    end\n",
    "    return(ge)\n",
    "end     "
   ]
  },
  {
   "cell_type": "code",
   "execution_count": null,
   "metadata": {},
   "outputs": [],
   "source": []
  },
  {
   "cell_type": "code",
   "execution_count": null,
   "metadata": {},
   "outputs": [],
   "source": []
  }
 ],
 "metadata": {
  "kernelspec": {
   "display_name": "Julia 1.3.1",
   "language": "julia",
   "name": "julia-1.3"
  },
  "language_info": {
   "file_extension": ".jl",
   "mimetype": "application/julia",
   "name": "julia",
   "version": "1.3.1"
  }
 },
 "nbformat": 4,
 "nbformat_minor": 4
}
