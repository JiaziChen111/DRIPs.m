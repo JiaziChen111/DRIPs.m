{
 "cells": [
  {
   "cell_type": "markdown",
   "metadata": {},
   "source": [
    "# Pricing with Rational Inattention: Partial Equilibrium with No Feedback\n",
    "\n",
    "\n",
    "This notebook goes through a couple of examples for solving LQG Dynamic Rational Inattention pricing models in partial equilibrium using the methods and the [solver](https://github.com/choongryulyang/dynamic_multivariate_RI) from [Afrouzi and Yang (2019)](http://www.afrouzi.com/dynamic_inattention.pdf) that was adapted for Julia by [Miguel Acosta](https://www.acostamiguel.com/home).\n",
    "\n",
    "Include the solver and import packages for plots and performance:"
   ]
  },
  {
   "cell_type": "code",
   "execution_count": null,
   "metadata": {},
   "outputs": [],
   "source": [
    "include(\"DRIP.jl\");\n",
    "using Plots, LaTeXStrings, BenchmarkTools; pyplot();"
   ]
  },
  {
   "cell_type": "markdown",
   "metadata": {},
   "source": [
    "## Example 1a: The Case with Only Aggregate Shocks\n",
    "There is a measure of firms indexed by $i\\in[0,1]$. Firm $i$ chooses its price $p_{i,t}$ at time $t$ to track its ideal price $p_{i,t}^*$. Formally, her flow profit is  \n",
    "    $$-(p_{i,t}-p_{i,t}^*)^2$$\n",
    "    \n",
    "We start by assuming that $p_{i,t}^*=q_t$ where\n",
    "\\begin{align}\n",
    "    \\Delta q_t&=\\rho \\Delta q_{t-1}+u_t,\\quad u_t\\sim \\mathcal{N}(0,\\sigma_u^2) \n",
    "\\end{align}\n",
    "Here $q_t$ can be interpreted as money growth or the nominal aggregate demand. Therefore, the state-space representation of the problem is \n",
    "\\begin{align}\n",
    "   \\vec{x}_{t}&=\\left[\\begin{array}{c}\n",
    "    q_{t}\\\\\n",
    "    \\Delta q_{t}\n",
    "    \\end{array}\\right] \n",
    "    = \\underset{\\mathbf{A}}{\\underbrace{\\left[\\begin{array}{cc}\n",
    "    1 & \\rho \\\\\n",
    "    0 & \\rho \\\\\n",
    "    \\end{array}\\right]}}\\, \\vec{x}_{t-1} \n",
    "    + \\underset{\\mathbf{Q}}{\\underbrace{\\left[\\begin{array}{c}\n",
    "    \\sigma_u  \\\\\n",
    "    \\sigma_u \\\\\n",
    "    \\end{array}\\right]}}\\, u_t, \\\\\n",
    "    p_{i,t}^*&=\\underset{\\mathbf{H}}{\\underbrace{\\left[\\begin{array}{c}\n",
    "    1 \\\\\n",
    "    0 \\\\\n",
    "    \\end{array}\\right]}}'\\vec{x}_t\n",
    "\\end{align}\n",
    "\n",
    "Assign value to deep parameters and define the structure of the problem"
   ]
  },
  {
   "cell_type": "code",
   "execution_count": null,
   "metadata": {},
   "outputs": [],
   "source": [
    "ρ   = 0.6;        #persistence of money growth\n",
    "σ_u = 1;          #std. deviation of shocks to money growth\n",
    "\n",
    "## specifying the primitives of the drip\n",
    "ω   = 100;       \n",
    "β   = 0.96^0.25;  \n",
    "A   = [1 ρ; 0 ρ]; \n",
    "Q   = σ_u*[1; 1];\n",
    "H   = [1; 0];"
   ]
  },
  {
   "cell_type": "markdown",
   "metadata": {},
   "source": [
    "#### Solve"
   ]
  },
  {
   "cell_type": "code",
   "execution_count": null,
   "metadata": {},
   "outputs": [],
   "source": [
    "ex1 = solve_drip(ω,β,A,Q,H);"
   ]
  },
  {
   "cell_type": "markdown",
   "metadata": {},
   "source": [
    "Performance:"
   ]
  },
  {
   "cell_type": "code",
   "execution_count": null,
   "metadata": {},
   "outputs": [],
   "source": [
    "@benchmark solve_drip(ω,β,A,Q,H) setup=(ω=100*rand()) # solves and times the function for a random set of ω's"
   ]
  },
  {
   "cell_type": "markdown",
   "metadata": {},
   "source": [
    "Get IRFs:"
   ]
  },
  {
   "cell_type": "code",
   "execution_count": null,
   "metadata": {},
   "outputs": [],
   "source": [
    "ex1irfs = dripirfs(ex1,20);"
   ]
  },
  {
   "cell_type": "markdown",
   "metadata": {},
   "source": [
    "Let's plot how the average price $p=\\int_0^1 p_{i,t}di$ responds to a shock to money growth:"
   ]
  },
  {
   "cell_type": "code",
   "execution_count": null,
   "metadata": {},
   "outputs": [],
   "source": [
    "plot(1:ex1irfs.T,[ex1irfs.x[1,1,:],ex1irfs.a[1,1,:]],\n",
    "    xlabel     = \"Time\",\n",
    "    label      = [L\"Nominal Agg. Demand ($q$)\" L\"Price ($p$)\"],\n",
    "    title      = \"IRFs to 1 Std. Dev. Expansionary Shock\",\n",
    "    xlim       = (1,ex1irfs.T),\n",
    "    lw         = 3,\n",
    "    legend     = :bottomright,\n",
    "    legendfont = font(12),\n",
    "    tickfont   = font(12),\n",
    "    framestyle = :box)"
   ]
  },
  {
   "cell_type": "markdown",
   "metadata": {},
   "source": [
    "We can also plot the IRFs of inflation $\\pi_t\\equiv p_t-p_{t-1}$ and output $y_t\\equiv q_t-p_t$ to 1 percent expansionary shock to $q$:"
   ]
  },
  {
   "cell_type": "code",
   "execution_count": null,
   "metadata": {},
   "outputs": [],
   "source": [
    "p1 = plot(1:ex1irfs.T,ex1irfs.x[1,1,:]-ex1irfs.a[1,1,:],\n",
    "    title  = L\"Output ($y_t$)\")\n",
    "\n",
    "p2 = plot(1:ex1irfs.T,[ex1irfs.a[1,1,1];ex1irfs.a[1,1,2:end]-ex1irfs.a[1,1,1:end-1]],\n",
    "    title  = L\"Inflation ($\\pi_t$)\")\n",
    "\n",
    "display(plot(p1,p2,\n",
    "    layout     = (1,2),\n",
    "    xlim       = (1,ex1irfs.T),\n",
    "    lw         = 3,\n",
    "    legend     = false,\n",
    "    tickfont   = font(12),\n",
    "    framestyle = :box));"
   ]
  },
  {
   "cell_type": "markdown",
   "metadata": {},
   "source": [
    "## Example 1b: The Case with Transitory Shocks\n",
    "Suppose now that $p_{i,t}^*=q_t-z_{t}$ where\n",
    "\\begin{align}\n",
    "    \\Delta q_t&=\\rho \\Delta q_{t-1}+u_t,\\quad u_t\\sim \\mathcal{N}(0,\\sigma_u^2) \\\\\n",
    "    z_{t}&\\sim \\mathcal{N}(0,\\sigma_z^2) \n",
    "\\end{align}\n",
    "Here $q_t$ can be interpreted as money growth and $z_{i,t}$ as an idiosyncratic TFP shock. Therefore, \n",
    "\\begin{align}\n",
    "   \\vec{x}_{t}&=\\left[\\begin{array}{c}\n",
    "    q_{t}\\\\\n",
    "    \\Delta q_{t} \\\\\n",
    "    z_{t}\n",
    "    \\end{array}\\right] \n",
    "    = \\underset{\\mathbf{A}}{\\underbrace{\\left[\\begin{array}{ccc}\n",
    "    1 & \\rho & 0\\\\\n",
    "    0 & \\rho & 0\\\\\n",
    "    0 & 0 & 0 \\\\\n",
    "    \\end{array}\\right]}}\\, \\vec{x}_{t-1} \n",
    "    + \\underset{\\mathbf{Q}}{\\underbrace{\\left[\\begin{array}{cc}\n",
    "    \\sigma_u & 0 \\\\\n",
    "    \\sigma_u & 0 \\\\\n",
    "    0 & \\sigma_z   \\\\\n",
    "    \\end{array}\\right]}}\\, \\left[\\begin{array}{c}\n",
    "    u_t  \\\\\n",
    "    z_{t}   \\\\\n",
    "    \\end{array}\\right], \\\\\n",
    "    p_{i,t}^*&=\\underset{\\mathbf{H}}{\\underbrace{\\left[\\begin{array}{c}\n",
    "    1     \\\\\n",
    "    0 \\\\\n",
    "    -1 \\\\\n",
    "    \\end{array}\\right]}}'\\vec{x}_{t}\n",
    "\\end{align}\n",
    "\n",
    "Assign values:"
   ]
  },
  {
   "cell_type": "code",
   "execution_count": null,
   "metadata": {},
   "outputs": [],
   "source": [
    "ρ   = 0.6;        #persistence of money growth\n",
    "σ_u = 1;          #std. deviation of shocks to money growth\n",
    "σ_z = √10;      #std. deviation of idiosyncratic shock\n",
    "\n",
    "## specifying the primitives of the drip\n",
    "ω   = 100;       \n",
    "β   = 0.96^0.25;  \n",
    "A   = [1 ρ 0; 0 ρ 0; 0 0 0]; \n",
    "Q   = [σ_u 0; σ_u 0; 0 σ_z];\n",
    "H   = [1; 0; -1];"
   ]
  },
  {
   "cell_type": "markdown",
   "metadata": {},
   "source": [
    "#### Solve"
   ]
  },
  {
   "cell_type": "code",
   "execution_count": null,
   "metadata": {},
   "outputs": [],
   "source": [
    "ex2  = solve_drip(ω,β,A,Q,H);"
   ]
  },
  {
   "cell_type": "markdown",
   "metadata": {},
   "source": [
    "Performance:"
   ]
  },
  {
   "cell_type": "code",
   "execution_count": null,
   "metadata": {},
   "outputs": [],
   "source": [
    "@benchmark solve_drip(ω,β,A,Q,H) setup=(ω=100*rand()) # solves and times the function for a random set of ω's"
   ]
  },
  {
   "cell_type": "markdown",
   "metadata": {},
   "source": [
    "Get the IRFs:"
   ]
  },
  {
   "cell_type": "code",
   "execution_count": null,
   "metadata": {},
   "outputs": [],
   "source": [
    "ex2irfs = dripirfs(ex2,20);"
   ]
  },
  {
   "cell_type": "markdown",
   "metadata": {},
   "source": [
    "To get the IRFs simply use the law of motion for actions:"
   ]
  },
  {
   "cell_type": "code",
   "execution_count": null,
   "metadata": {},
   "outputs": [],
   "source": [
    "p1 = plot(1:ex2irfs.T,[ex2irfs.x[1,1,:],ex2irfs.a[1,1,:]],\n",
    "    title  = L\"IRFs to $q$ shock\");\n",
    "p2 = plot(1:ex1irfs.T,[ex2irfs.x[1,2,:],ex2irfs.a[1,2,:]],\n",
    "    title  = L\"IRFs to $z$ shock\");\n",
    "\n",
    "plot(p1,p2, layout = (1,2),\n",
    "    xlabel     = \"Time\",\n",
    "    label      = [L\"Agg. Demand ($q$)\" L\"Price ($p$)\"],\n",
    "    xlim       = (1,ex2irfs.T),\n",
    "    lw         = 3,\n",
    "    legend     = :bottomright,\n",
    "    legendfont = font(12),\n",
    "    tickfont   = font(12),\n",
    "    framestyle = :box)"
   ]
  },
  {
   "cell_type": "code",
   "execution_count": null,
   "metadata": {},
   "outputs": [],
   "source": [
    "p1 = plot(1:ex2irfs.T,ex2irfs.x[1,1,:]-ex2irfs.a[1,1,:],\n",
    "    title  = L\"Output ($q_0\\to y_t$)\");\n",
    "\n",
    "p2 = plot(1:ex2irfs.T,[ex2irfs.a[1,1,1];ex2irfs.a[1,1,2:end]-ex2irfs.a[1,1,1:end-1]],\n",
    "    title  = L\"Inflation ($q_0\\to \\pi_t$)\")\n",
    "\n",
    "p3 = plot(1:ex2irfs.T,ex2irfs.x[1,2,:]-ex2irfs.a[1,2,:],\n",
    "    title  = L\"Output ($z_0\\to y_t$)\");\n",
    "\n",
    "p4 = plot(1:ex2irfs.T,[ex2irfs.a[1,2,1];ex2irfs.a[1,2,2:end]-ex2irfs.a[1,2,1:end-1]],\n",
    "    title  = L\"Inflation ($z_0\\to \\pi_t$)\")\n",
    "\n",
    "plot(p1,p2,p3,p4, layout = (2,2),\n",
    "    xlim       = (1,ex2irfs.T),\n",
    "    lw         = 3,\n",
    "    legend     = false,\n",
    "    tickfont   = font(12),\n",
    "    framestyle = :box)\n"
   ]
  }
 ],
 "metadata": {
  "kernelspec": {
   "display_name": "Julia 1.3.1",
   "language": "julia",
   "name": "julia-1.3"
  },
  "language_info": {
   "file_extension": ".jl",
   "mimetype": "application/julia",
   "name": "julia",
   "version": "1.3.1"
  },
  "latex_envs": {
   "LaTeX_envs_menu_present": true,
   "autoclose": false,
   "autocomplete": true,
   "bibliofile": "biblio.bib",
   "cite_by": "apalike",
   "current_citInitial": 1,
   "eqLabelWithNumbers": true,
   "eqNumInitial": 1,
   "hotkeys": {
    "equation": "Ctrl-E",
    "itemize": "Ctrl-I"
   },
   "labels_anchors": false,
   "latex_user_defs": false,
   "report_style_numbering": false,
   "user_envs_cfg": false
  }
 },
 "nbformat": 4,
 "nbformat_minor": 4
}
