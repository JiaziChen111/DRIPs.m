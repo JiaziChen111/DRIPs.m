{
 "cells": [
  {
   "cell_type": "markdown",
   "metadata": {},
   "source": [
    "# A Toolbox for Solving Dynamic Rational Inattention Problems\n",
    "\n",
    "\n",
    "This notebook goes through a couple of examples for solving LQG Dynamic Rational Inattention models using the methods and the [solver](https://github.com/choongryulyang/dynamic_multivariate_RI) from [Afrouzi and Yang (2019)](http://www.afrouzi.com/dynamic_inattention.pdf) that was adapted for Julia by [Miguel Acosta](https://www.acostamiguel.com/home). To include the solver, execute:"
   ]
  },
  {
   "cell_type": "code",
   "execution_count": 1,
   "metadata": {},
   "outputs": [],
   "source": [
    "include(\"Solve_RI_Dynamics.jl\");"
   ]
  },
  {
   "cell_type": "markdown",
   "metadata": {},
   "source": [
    "## Example 4: Pricing in GE\n",
    "### Background\n",
    "Suppose now that there is general equilibirum feedback with the degree of strategic complementarity $\\alpha$: $$p_{i,t}^*=(1-\\alpha)q_t+\\alpha p_t$$ where\n",
    "\\begin{align}\n",
    "    \\Delta q_t&=\\rho \\Delta q_{t-1}+u_t,\\quad u_t\\sim \\mathcal{N}(0,\\sigma_u^2) \\\\\n",
    "    p_t&\\equiv \\int_0^1 p_{i,t}di\n",
    "\\end{align}\n",
    "Note that now the state space representation for $p_{i,t}^*$ is no longer exogenous and is determined in the equilibrium. Moreover, in the particular case where there is no cost to attention, we know that in the equilibrium $p_{i,t}^*=q_t$. \n",
    "\n",
    "Moreover, for the general case, we know that $p_{i,t}^*$ is a Guassian process and depends on the history of shocks to $q_t$. Accordingly, we will approximate it using the following representation:\n",
    "\n",
    "$$p_{i,t}^*\\approx q_t+\\sum_{i=0}^{l_\\rho-1} \\rho_i \\Delta q_{t-i}+\\sum_{k=0}^{l_u-1} \\theta_i u_{t-k}$$\n",
    "\n",
    "Note that with no inattention, this approximation is accurate with all $\\rho_i$'s and $\\theta_i$'s begin zero. Our objective is to find the equilibrium values of $\\rho_i$'s and $\\theta_i$'s and we choose $l_\\rho,l_u$ such that this approximation is accurate enough subject to having a managable number of endogenous objects to solve for. Larger $l_\\rho,l_u$ are always better for accuracy, but decrease computational efficiency of the solver by increasing the number of states. \n",
    "\n",
    "Now, let \n",
    "$$\\vec{x}_t = (q_{t},\\Delta q_{t},\\dots,\\Delta q_{t-l_{\\rho}+1},u_{t},\\dots,u_{t-l_u+1})'\\in\\mathbb{R}^{l_{\\rho}+l_u+1}$$\n",
    "\n",
    "### Matrix Notation\n",
    "\n",
    "We have\n",
    "$$\\vec{x}_t=\\mathbf{A}\\vec{x}_{t-1}+\\mathbf{Q}u_t$$ where\n",
    "\n",
    "\\begin{align}\n",
    "    \\mathbf{A}=\\left[\\begin{array}{ccccc}\n",
    "        1 &\\rho| &&0&\\\\ \\hline\n",
    "        0 &\\rho| &&0&\\\\ \\hline\n",
    "        0| & \\mathbf{I}_{(l_{\\rho}-1)\\times(l_{\\rho}-1)}&|  & \\mathbf{0}_{(l_{\\rho}-1)\\times(l_{u}+1)} & \\\\ \\hline\n",
    "         &  & \\mathbf{0}_{1\\times(l_{\\rho}+l_{u}+1)}& & \\\\ \\hline\n",
    "         & \\mathbf{0}_{(l_{u}-1)\\times(l_{\\rho}+2)} &| & \\mathbf{I}_{(l_{u}-1)\\times(l_{u}-1)} & \n",
    "        \\end{array}\\right], \\quad \n",
    "    \\mathbf{Q}=\\left[\\begin{array}{c}\n",
    "         \\sigma_u \\\\\n",
    "         \\sigma_u \\\\ \\hline\n",
    "         \\mathbf{0}_{(l_{\\rho}-1)\\times 1} \\\\ \\hline\n",
    "         1 \\\\ \\hline\n",
    "         \\mathbf{0}_{(l_{u}-1)\\times 1} \n",
    "        \\end{array}\\right]\n",
    "\\end{align}\n",
    "and \n",
    "\\begin{align}\n",
    "    p_{i,t}^*=\\Gamma'\\vec{x}_t\n",
    "\\end{align}\n",
    "\n",
    "Our objective is to find the equilibrium $\\Gamma$, and we do this by iteration for an initial guess $\\Gamma_{(0)}$:\n",
    "\n",
    "* At iteration $n\\geq 1$, using function solve the ratinoal inattention problem given the guess $\\Gamma_{(n-1)}$.\n",
    "\n",
    "* Get the implied impulse response of $p_{i,t^*}-q_{t}$ and approximate it to fit the state-space represtation.\n",
    "\n",
    "* Update $\\Gamma_{(n)}$.\n",
    "* Iterate until convergence."
   ]
  },
  {
   "cell_type": "markdown",
   "metadata": {},
   "source": [
    "## Setup the Problem"
   ]
  },
  {
   "cell_type": "code",
   "execution_count": 27,
   "metadata": {},
   "outputs": [
    {
     "data": {
      "text/plain": [
       "ge_drip (generic function with 1 method)"
      ]
     },
     "execution_count": 27,
     "metadata": {},
     "output_type": "execute_result"
    }
   ],
   "source": [
    "function approx(Hpq,   # irf of p*-q: p*-q = Hpq'U\n",
    "\t\t\t\tHdq,   # irf of dq:   dq   = Hdq'U\n",
    "\t\t\t\tl_ρ,   # number of dq lags in the approx\n",
    "\t\t\t\tl_u)   # number of u lags in the approx\n",
    "\tT = length(Hpq);\n",
    "    ### Add the error for if length(Hdq)~=length(Hpq)\n",
    "    ### Add the error for l_u = 0 or l_ρ = 0 \n",
    "\t\n",
    "\tM = [zeros(1,T-1) 0; Matrix(I,T-1,T-1) zeros(T-1,1)]\n",
    "    B = zeros(l_ρ+l_u,T);\n",
    "\n",
    "    for i in 1:l_ρ\n",
    "        B[i,:] = Hdq'*M'^(i-1);\n",
    "    end\n",
    "\n",
    "    B[l_ρ+1:l_ρ+l_u,1:l_u] = Matrix(I,l_u,l_u); \n",
    "    Γ = [1;inv(B*B')*B*Hpq];\n",
    "    return(Γ)\n",
    "end\n",
    "    \n",
    "function ge_drip(ω,β,A,Q,                     #primitives of drip except for H which is endogenous\n",
    "                 α,                           #strategic complementarity\n",
    "                 l_ρ,l_u,                     #parameters of ARMA(p,q)\n",
    "                 Hdq;                         #irf of Δq\n",
    "                 Γ0    = [1;zeros(l_ρ+l_u)],  #optional: initial guess for Γ0\n",
    "                 maxit = 200,                 #optional: max number of iterations for GE code \n",
    "                 tol   = 1e-12)               #optional: tolerance for iterations\n",
    "\n",
    "    # set primitives\n",
    "    T     = length(Hq);\n",
    "    err   = 1;  \n",
    "    iter  = 0;\n",
    "    M     = [zeros(1,T-1) 0; Matrix(I,T-1,T-1) zeros(T-1,1)];\n",
    "    eye   = Matrix(I,T,T);\n",
    "    \n",
    "    # iterate on GE\n",
    "    while (err > tol) & (iter < maxit)\n",
    "            if iter == 0 \n",
    "                global ge  = Solve_RI_Dynamics(ω,β,A,Q,Γ0); \n",
    "            else \n",
    "                global ge  = Solve_RI_Dynamics(ω,β,A,Q,Γ0;Ω0 = ge.Ω ,Σ0 = ge.Σ_1);\n",
    "            end\n",
    "            K = real.(ge.K)\n",
    "            Y = real.(ge.Y)\n",
    "\n",
    "             if maximum(abs.(imag.(ge.K))) > 1e-6 || maximum(abs.(imag.(ge.Y))) > 1e-6\n",
    "                 println(\"Complex components are large\")\n",
    "             end\n",
    "\n",
    "            irfs  = dripirfs(ge,T);\n",
    "            Hpq   = α*(irfs.a[1,1,:]-inv(I-M)*Hdq);\n",
    "            Γ1    = approx(Hpq,Hdq,l_ρ,l_u);\n",
    "            err   = norm(Γ1-Γ0,2);\n",
    "        \n",
    "            Γ0    = Γ1;\n",
    "            if iter == maxit\n",
    "                print(\"GE loop hit maxit -- no convergence\\n\")\n",
    "            end\n",
    "            iter += 1;\n",
    "            println(\"Iteration $iter. Difference: $err\")\n",
    "    end\n",
    "    return(ge)\n",
    "end     "
   ]
  },
  {
   "cell_type": "code",
   "execution_count": 22,
   "metadata": {},
   "outputs": [],
   "source": [
    "## Parameters\n",
    "ρ   = 0.6;\n",
    "σ_u = 0.1;\n",
    "α   = 0.8;\n",
    "ω   = 0.4;\n",
    "β   = 0.96^0.25;\n",
    "Γ0  = zeros(1+l_ρ+l_u,1); Γ0[1]=1;\n",
    "T   = 60;\n",
    "Hdq = ρ.^(0:T-1); #state-space rep. of Δq \n",
    "\n",
    "l_ρ = 1;\n",
    "l_u = 50;\n",
    "A   = [[1; ρ; zeros(l_ρ+l_u-1,1)]';\n",
    "\t  [0; ρ; zeros(l_ρ+l_u-1,1)]';\n",
    "\t  [zeros(1,l_ρ-1); Matrix(I,l_ρ-1,l_ρ-1); zeros(l_u+1,l_ρ-1)]';\n",
    "\t   zeros(1,l_ρ+l_u+1);\n",
    "\t  [zeros(l_ρ+2,l_u-1); Matrix(I,l_u-1,l_u-1)]'];\n",
    "Q   = [σ_u;σ_u;zeros(l_ρ-1,1);1;zeros(l_u-1,1)];"
   ]
  },
  {
   "cell_type": "code",
   "execution_count": 23,
   "metadata": {},
   "outputs": [
    {
     "name": "stdout",
     "output_type": "stream",
     "text": [
      "Iteration 1. Difference: 176216.1084739109\n",
      "Iteration 2. Difference: 4596.463637287462\n",
      "Your matrix has complex stuff"
     ]
    },
    {
     "ename": "MethodError",
     "evalue": "MethodError: no method matching abs(::Nothing)\nClosest candidates are:\n  abs(!Matched::Pkg.Resolve.MaxSum.FieldValues.FieldValue) at /Users/julia/buildbot/worker/package_macos64/build/usr/share/julia/stdlib/v1.3/Pkg/src/resolve/FieldValues.jl:67\n  abs(!Matched::Pkg.Resolve.VersionWeights.VersionWeight) at /Users/julia/buildbot/worker/package_macos64/build/usr/share/julia/stdlib/v1.3/Pkg/src/resolve/VersionWeights.jl:40\n  abs(!Matched::Missing) at missing.jl:100\n  ...",
     "output_type": "error",
     "traceback": [
      "MethodError: no method matching abs(::Nothing)\nClosest candidates are:\n  abs(!Matched::Pkg.Resolve.MaxSum.FieldValues.FieldValue) at /Users/julia/buildbot/worker/package_macos64/build/usr/share/julia/stdlib/v1.3/Pkg/src/resolve/FieldValues.jl:67\n  abs(!Matched::Pkg.Resolve.VersionWeights.VersionWeight) at /Users/julia/buildbot/worker/package_macos64/build/usr/share/julia/stdlib/v1.3/Pkg/src/resolve/VersionWeights.jl:40\n  abs(!Matched::Missing) at missing.jl:100\n  ...",
      "",
      "Stacktrace:",
      " [1] _broadcast_getindex_evalf at ./broadcast.jl:630 [inlined]",
      " [2] _broadcast_getindex at ./broadcast.jl:603 [inlined]",
      " [3] _getindex at ./broadcast.jl:626 [inlined]",
      " [4] _broadcast_getindex at ./broadcast.jl:602 [inlined]",
      " [5] getindex at ./broadcast.jl:563 [inlined]",
      " [6] copy at ./broadcast.jl:829 [inlined]",
      " [7] materialize(::Base.Broadcast.Broadcasted{Base.Broadcast.DefaultArrayStyle{0},Nothing,typeof(>),Tuple{Base.Broadcast.Broadcasted{Base.Broadcast.DefaultArrayStyle{0},Nothing,typeof(abs),Tuple{Base.RefValue{Nothing}}},Float64}}) at ./broadcast.jl:819",
      " [8] #Solve_RI_Dynamics#3(::Array{Complex{Float64},2}, ::Array{Float64,2}, ::typeof(Solve_RI_Dynamics), ::Float64, ::Float64, ::Array{Float64,2}, ::Array{Float64,2}, ::Array{Float64,1}) at /Users/afrouzi/Solve_RI_Dynamics.jl:70",
      " [9] (::var\"#kw##Solve_RI_Dynamics\")(::NamedTuple{(:Ω0, :Σ0),Tuple{Array{Complex{Float64},2},Array{Float64,2}}}, ::typeof(Solve_RI_Dynamics), ::Float64, ::Float64, ::Array{Float64,2}, ::Array{Float64,2}, ::Array{Float64,1}) at ./none:0",
      " [10] #ge_drip#5(::Array{Float64,1}, ::Int64, ::Float64, ::typeof(ge_drip), ::Float64, ::Float64, ::Array{Float64,2}, ::Array{Float64,2}, ::Float64, ::Int64, ::Int64, ::Array{Float64,1}) at ./In[14]:41",
      " [11] ge_drip(::Float64, ::Float64, ::Array{Float64,2}, ::Array{Float64,2}, ::Float64, ::Int64, ::Int64, ::Array{Float64,1}) at ./In[14]:30",
      " [12] top-level scope at In[23]:1"
     ]
    }
   ],
   "source": [
    "ex4 = ge_drip(ω,β,A,Q,α,l_ρ,l_u,Hdq)"
   ]
  },
  {
   "cell_type": "code",
   "execution_count": 35,
   "metadata": {},
   "outputs": [
    {
     "data": {
      "text/plain": [
       "11-element Array{Float64,1}:\n",
       "  1.0                  \n",
       " -0.10845141164655368  \n",
       "  0.07187909711922837  \n",
       "  0.298025528943023    \n",
       "  0.01380500966546653  \n",
       " -0.4410936702173714   \n",
       "  1.0046786502120397   \n",
       "  0.9247991534196831   \n",
       " -0.13138785448581103  \n",
       "  0.809816143591199    \n",
       "  6.174103337471289e-17"
      ]
     },
     "execution_count": 35,
     "metadata": {},
     "output_type": "execute_result"
    }
   ],
   "source": [
    "x = approx(Hdq,Hdq,5,5)   "
   ]
  },
  {
   "cell_type": "code",
   "execution_count": null,
   "metadata": {},
   "outputs": [],
   "source": []
  }
 ],
 "metadata": {
  "kernelspec": {
   "display_name": "Julia 1.3.1",
   "language": "julia",
   "name": "julia-1.3"
  },
  "language_info": {
   "file_extension": ".jl",
   "mimetype": "application/julia",
   "name": "julia",
   "version": "1.3.1"
  }
 },
 "nbformat": 4,
 "nbformat_minor": 4
}
